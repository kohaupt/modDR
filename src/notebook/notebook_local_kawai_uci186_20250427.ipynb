{
 "cells": [
  {
   "cell_type": "markdown",
   "id": "4606304f49606ba7",
   "metadata": {},
   "source": "# Exploration Notebook for local Force-Directed Layouts (Kamada-Kawai, UCI-ID 186, Wine Quality)\n"
  },
  {
   "cell_type": "markdown",
   "id": "5ca40435fac46f82",
   "metadata": {},
   "source": [
    "## Imports"
   ]
  },
  {
   "cell_type": "code",
   "id": "e47c16a9b2ccb32a",
   "metadata": {},
   "source": [
    "\n",
    "%load_ext autoreload\n",
    "%autoreload 2"
   ],
   "outputs": [],
   "execution_count": null
  },
  {
   "cell_type": "code",
   "id": "4fc39a967bc11405",
   "metadata": {},
   "source": [
    "import matplotlib.pyplot as plt\n",
    "import networkx as nx\n",
    "import numpy as np\n",
    "import pandas as pd\n",
    "import seaborn as sb\n",
    "import umap.plot\n",
    "from ucimlrepo import fetch_ucirepo"
   ],
   "outputs": [],
   "execution_count": null
  },
  {
   "cell_type": "code",
   "id": "fe5110804a17b931",
   "metadata": {},
   "source": [
    "import sys\n",
    "\n",
    "sys.path.append(\"../\")\n",
    "import visualization\n",
    "import processing\n",
    "from embedding_obj import EmbeddingObj\n",
    "from community import community_louvain"
   ],
   "outputs": [],
   "execution_count": null
  },
  {
   "cell_type": "markdown",
   "id": "da9afa6432fb2abd",
   "metadata": {},
   "source": [
    "## Data Preparation"
   ]
  },
  {
   "cell_type": "code",
   "id": "6cd59565117e1893",
   "metadata": {},
   "source": [
    "# fetch dataset (available at https://archive.ics.uci.edu/dataset/186/wine+quality)\n",
    "image_segmentation = fetch_ucirepo(id=186)\n",
    "\n",
    "# data (as pandas dataframes)\n",
    "X = pd.DataFrame(image_segmentation.data.features, dtype=\"float32\")\n",
    "y = pd.DataFrame(image_segmentation.data.targets, dtype=\"float32\")\n",
    "\n",
    "target_feature = \"pH\"\n",
    "labels = pd.Categorical(y[\"quality\"]).codes\n",
    "\n",
    "X.head()"
   ],
   "outputs": [],
   "execution_count": null
  },
  {
   "cell_type": "code",
   "id": "f13a99a826b004fc",
   "metadata": {},
   "source": [
    "connectivity_pairwise = processing.compute_pairwise_dists(X, [target_feature])\n",
    "i_upper = np.triu_indices_from(connectivity_pairwise, k=1)\n",
    "connectivity_pairwise = connectivity_pairwise[i_upper]\n",
    "\n",
    "fig, ax = plt.subplots(figsize=(20, 4))\n",
    "sb.histplot(connectivity_pairwise.flatten(), bins=100, ax=ax)\n",
    "ax.set_title(\"Histogram of pairwise similarity\")\n",
    "ax.set_xlabel(\"Quantity\")\n",
    "ax.set_ylabel(\"Amount\")\n",
    "\n",
    "fig.tight_layout()\n",
    "fig.show()"
   ],
   "outputs": [],
   "execution_count": null
  },
  {
   "cell_type": "markdown",
   "id": "ec70f7a69a3c1f82",
   "metadata": {},
   "source": [
    "## Compute initial UMAP-Embedding & Louvain Partition"
   ]
  },
  {
   "cell_type": "code",
   "id": "af98a00593d9a2f8",
   "metadata": {},
   "source": [
    "umap_mapper = umap.UMAP(n_neighbors=15, min_dist=1, random_state=0)\n",
    "umap_mapper.fit(X)\n",
    "umap_embedding = umap_mapper.embedding_\n",
    "connectivity_umap_knn = umap_mapper.graph_"
   ],
   "outputs": [],
   "execution_count": null
  },
  {
   "cell_type": "code",
   "id": "e79f3c64a793a0d0",
   "metadata": {},
   "source": [
    "graph_umap_knn = nx.Graph(connectivity_umap_knn)\n",
    "edge_weights_umap_knn = [\n",
    "    graph_umap_knn[u][v][\"weight\"] for u, v in graph_umap_knn.edges()\n",
    "]\n",
    "\n",
    "graph_knn_feat, edge_weights_knn_feat = processing.compute_knn_graph(X, [\n",
    "    target_feature], n_neighbors=5)\n",
    "\n",
    "knn_list = [\n",
    "    EmbeddingObj(graph=graph_umap_knn,\n",
    "                 embedding={i: coords for i, coords in enumerate(umap_embedding)},\n",
    "                 edge_weights=edge_weights_umap_knn,\n",
    "                 title=\"UMAP-Positions with UMAP-kNN\"),\n",
    "    EmbeddingObj(graph=graph_knn_feat,\n",
    "                 embedding={i: coords for i, coords in enumerate(umap_embedding)},\n",
    "                 edge_weights=edge_weights_knn_feat,\n",
    "                 title=f\"UMAP-Positions with kNN for Similarity of '{target_feature}'\")\n",
    "]\n",
    "\n",
    "for embedding_obj in knn_list:\n",
    "    embedding_obj.com_partition = community_louvain.best_partition(\n",
    "        embedding_obj.sim_graph, random_state=0)\n",
    "\n",
    "    embedding_obj.labels = embedding_obj.com_partition"
   ],
   "outputs": [],
   "execution_count": null
  },
  {
   "cell_type": "code",
   "id": "a14c4527b050f2d2",
   "metadata": {},
   "source": [
    "visualization.display_graphs(knn_list,\n",
    "                             figsize_columns=2,\n",
    "                             figsize=(20, 8),\n",
    "                             cmap='viridis',\n",
    "                             show_cbar=False)"
   ],
   "outputs": [],
   "execution_count": null
  },
  {
   "cell_type": "markdown",
   "id": "1306938739756762",
   "metadata": {},
   "source": [
    "## Visualize embeddings"
   ]
  },
  {
   "metadata": {},
   "cell_type": "code",
   "source": [
    "pairwise_distances = processing.compute_pairwise_dists(X, [target_feature],\n",
    "                                                       invert=False)\n",
    "\n",
    "connectivity_umap_knn_nx = nx.Graph(connectivity_umap_knn)\n",
    "for u, v in connectivity_umap_knn_nx.edges():\n",
    "    connectivity_umap_knn_nx[u][v][\"weight\"] = pairwise_distances[u][v]"
   ],
   "id": "7e3618639dd883dd",
   "outputs": [],
   "execution_count": null
  },
  {
   "metadata": {},
   "cell_type": "code",
   "source": [
    "iterations = [1]\n",
    "method = \"kawai\""
   ],
   "id": "3b7449bf4941ea4f",
   "outputs": [],
   "execution_count": null
  },
  {
   "cell_type": "markdown",
   "id": "cf44072405859e8b",
   "metadata": {},
   "source": [
    "### 2.1 No MST, no threshold"
   ]
  },
  {
   "metadata": {},
   "cell_type": "code",
   "source": [
    "embeddings, partition_dict = processing.compute_local_force_directed(\n",
    "    connectivity_umap_knn_nx,\n",
    "    umap_embedding,\n",
    "    iterations=iterations, method=method, pairwise_dists=pairwise_distances)"
   ],
   "id": "eeef50c42dd74701",
   "outputs": [],
   "execution_count": null
  },
  {
   "cell_type": "code",
   "id": "74aefc247f480723",
   "metadata": {},
   "source": [
    "# partition_values = embeddings[0].labels\n",
    "partition_values = set(partition_dict.values())"
   ],
   "outputs": [],
   "execution_count": null
  },
  {
   "cell_type": "code",
   "id": "b5a93fdbbdbf2238",
   "metadata": {},
   "source": [
    "visualization.display_graphs(embeddings,\n",
    "                             figsize_columns=2,\n",
    "                             figsize=(20, 10),\n",
    "                             show_edges=True,\n",
    "                             cmap='viridis',\n",
    "                             # cbar_labels=partition_values,\n",
    "                             show_cbar=False,\n",
    "                             show_partition_centers=True)"
   ],
   "outputs": [],
   "execution_count": null
  },
  {
   "cell_type": "code",
   "id": "8081deb7f43985f9",
   "metadata": {},
   "source": [
    "visualization.display_graphs([embeddings[1]],\n",
    "                             figsize_columns=1,\n",
    "                             figsize=(15, 15),\n",
    "                             cmap='viridis',\n",
    "                             cbar_labels=partition_values,\n",
    "                             show_cbar=False,\n",
    "                             show_partition_centers=True\n",
    "                             )"
   ],
   "outputs": [],
   "execution_count": null
  },
  {
   "cell_type": "markdown",
   "id": "f9fa05f1f7446f66",
   "metadata": {},
   "source": [
    "### 2.2 No MST, threshold at 0.1"
   ]
  },
  {
   "cell_type": "code",
   "id": "ba9e93f6556e18fe",
   "metadata": {},
   "source": [
    "embeddings_threshold, _ = processing.compute_local_force_directed(\n",
    "    connectivity_umap_knn_nx,\n",
    "    umap_embedding,\n",
    "    iterations=iterations,\n",
    "    method=method,\n",
    "    threshold=0.1,\n",
    "    pairwise_dists=pairwise_distances)"
   ],
   "outputs": [],
   "execution_count": null
  },
  {
   "cell_type": "code",
   "id": "9915f832d81924aa",
   "metadata": {},
   "source": [
    "visualization.display_graphs(embeddings_threshold,\n",
    "                             figsize_columns=2,\n",
    "                             figsize=(20, 10),\n",
    "                             show_edges=True,\n",
    "                             cmap='viridis',\n",
    "                             cbar_labels=partition_values,\n",
    "                             show_cbar=False)"
   ],
   "outputs": [],
   "execution_count": null
  },
  {
   "cell_type": "code",
   "id": "c59f97a896930e79",
   "metadata": {},
   "source": [
    "visualization.display_graphs([embeddings_threshold[1]],\n",
    "                             figsize_columns=1,\n",
    "                             figsize=(15, 15),\n",
    "                             cmap='viridis',\n",
    "                             cbar_labels=partition_values,\n",
    "                             show_cbar=False,\n",
    "                             show_partition_centers=True)"
   ],
   "outputs": [],
   "execution_count": null
  },
  {
   "cell_type": "markdown",
   "id": "551dc4641f9c975e",
   "metadata": {},
   "source": [
    "### 2.3 MST, no threshold"
   ]
  },
  {
   "cell_type": "code",
   "id": "168888b6c5a986a2",
   "metadata": {},
   "source": [
    "embeddings_mst, _ = processing.compute_local_force_directed(connectivity_umap_knn_nx,\n",
    "                                                            umap_embedding,\n",
    "                                                            iterations=iterations,\n",
    "                                                            method=method,\n",
    "                                                            mst=True,\n",
    "                                                            pairwise_dists=pairwise_distances)"
   ],
   "outputs": [],
   "execution_count": null
  },
  {
   "cell_type": "code",
   "id": "29db863d3f0cd2d5",
   "metadata": {},
   "source": [
    "visualization.display_graphs(embeddings_mst,\n",
    "                             figsize_columns=2,\n",
    "                             figsize=(20, 10),\n",
    "                             show_edges=True,\n",
    "                             cmap='viridis',\n",
    "                             cbar_labels=partition_values,\n",
    "                             show_cbar=False)"
   ],
   "outputs": [],
   "execution_count": null
  },
  {
   "cell_type": "code",
   "id": "756d5b842f29f3e",
   "metadata": {},
   "source": [
    "visualization.display_graphs([embeddings_mst[1]],\n",
    "                             figsize_columns=1,\n",
    "                             figsize=(15, 15),\n",
    "                             cmap='viridis',\n",
    "                             cbar_labels=partition_values,\n",
    "                             show_cbar=False)"
   ],
   "outputs": [],
   "execution_count": null
  },
  {
   "cell_type": "markdown",
   "id": "4f5cbac4ed08c824",
   "metadata": {},
   "source": [
    "### 2.4 No MST, use boundary-edges"
   ]
  },
  {
   "cell_type": "code",
   "id": "6f1070ce4997dbe4",
   "metadata": {},
   "source": [
    "embeddings_boundaries, _ = processing.compute_local_force_directed(\n",
    "    connectivity_umap_knn_nx,\n",
    "    umap_embedding,\n",
    "    iterations=iterations,\n",
    "    method=method,\n",
    "    boundary_edges=True,\n",
    "    pairwise_dists=pairwise_distances)"
   ],
   "outputs": [],
   "execution_count": null
  },
  {
   "cell_type": "code",
   "id": "dc67c60801a02e58",
   "metadata": {},
   "source": [
    "visualization.display_graphs(embeddings_boundaries,\n",
    "                             figsize_columns=2,\n",
    "                             figsize=(20, 10),\n",
    "                             show_edges=True,\n",
    "                             cmap='viridis',\n",
    "                             cbar_labels=partition_values,\n",
    "                             show_cbar=False)"
   ],
   "outputs": [],
   "execution_count": null
  },
  {
   "cell_type": "code",
   "id": "b7733b2867e7ed84",
   "metadata": {},
   "source": [
    "visualization.display_graphs([embeddings_boundaries[1]],\n",
    "                             figsize_columns=1,\n",
    "                             figsize=(15, 15),\n",
    "                             cmap='viridis',\n",
    "                             cbar_labels=partition_values,\n",
    "                             show_cbar=False,\n",
    "                             show_partition_centers=True)"
   ],
   "outputs": [],
   "execution_count": null
  },
  {
   "cell_type": "markdown",
   "id": "af90ce22",
   "metadata": {},
   "source": "### 2.5 MST, use boundary-edges"
  },
  {
   "cell_type": "code",
   "id": "8a12afae0a1cb4e9",
   "metadata": {},
   "source": [
    "embeddings_mst_boundaries, _ = processing.compute_local_force_directed(\n",
    "    connectivity_umap_knn_nx,\n",
    "    umap_embedding,\n",
    "    iterations=iterations,\n",
    "    method=method,\n",
    "    mst=True,\n",
    "    boundary_edges=True,\n",
    "    pairwise_dists=pairwise_distances)"
   ],
   "outputs": [],
   "execution_count": null
  },
  {
   "cell_type": "code",
   "id": "88631b04",
   "metadata": {},
   "source": [
    "visualization.display_graphs(embeddings_mst_boundaries,\n",
    "                             figsize_columns=2,\n",
    "                             figsize=(20, 10),\n",
    "                             show_edges=False,\n",
    "                             cmap='viridis',\n",
    "                             cbar_labels=partition_values,\n",
    "                             show_cbar=False)"
   ],
   "outputs": [],
   "execution_count": null
  },
  {
   "cell_type": "code",
   "id": "76f6bef4",
   "metadata": {},
   "source": [
    "visualization.display_graphs([embeddings_mst_boundaries[1]],\n",
    "                             figsize_columns=1,\n",
    "                             figsize=(15, 15),\n",
    "                             cmap='viridis',\n",
    "                             cbar_labels=partition_values,\n",
    "                             show_cbar=False,\n",
    "                             show_partition_centers=True)"
   ],
   "outputs": [],
   "execution_count": null
  },
  {
   "cell_type": "markdown",
   "id": "abdea6e266618db4",
   "metadata": {},
   "source": [
    "### Error-Search: Missing Edges"
   ]
  },
  {
   "cell_type": "code",
   "id": "1e680e4bb4bf55ff",
   "metadata": {},
   "source": [
    "original_edges = set(connectivity_umap_knn_nx.edges())\n",
    "result_edges = set(embeddings[1].sim_graph.edges())\n",
    "print(\"Missing edges:\", len(original_edges - result_edges))"
   ],
   "outputs": [],
   "execution_count": null
  },
  {
   "cell_type": "code",
   "id": "c7d1b72ee622b1fa",
   "metadata": {},
   "source": [
    "missing_graph = nx.Graph(connectivity_umap_knn_nx)\n",
    "missing_graph.clear_edges()\n",
    "\n",
    "missing_edges = original_edges - result_edges\n",
    "missing_graph.add_edges_from(missing_edges)"
   ],
   "outputs": [],
   "execution_count": null
  },
  {
   "cell_type": "code",
   "id": "f0aff4588751581a",
   "metadata": {},
   "source": [
    "doppelte = []\n",
    "\n",
    "for u, v in connectivity_umap_knn_nx.edges():\n",
    "    if connectivity_umap_knn_nx.has_edge(v, u) and connectivity_umap_knn_nx.has_edge(u,\n",
    "                                                                                     v):\n",
    "        doppelte.append((u, v))\n",
    "\n",
    "print(len(doppelte))"
   ],
   "outputs": [],
   "execution_count": null
  },
  {
   "cell_type": "code",
   "id": "aea286f4571f7dd2",
   "metadata": {},
   "source": [
    "import numpy as np\n",
    "\n",
    "visualization.display_graphs(\n",
    "    [EmbeddingObj(graph=missing_graph, embedding=umap_embedding,\n",
    "                  edge_weights=np.ndarray([0]),\n",
    "                  title=\"UMAP-Positions with UMAP-kNN\")],\n",
    "    figsize_columns=1,\n",
    "    figsize=(20, 10),\n",
    "    show_edges=True,\n",
    "    cmap='viridis',\n",
    "    # cbar_labels=partition_values,\n",
    "    show_cbar=False)"
   ],
   "outputs": [],
   "execution_count": null
  }
 ],
 "metadata": {
  "kernelspec": {
   "display_name": ".venv",
   "language": "python",
   "name": "python3"
  },
  "language_info": {
   "codemirror_mode": {
    "name": "ipython",
    "version": 3
   },
   "file_extension": ".py",
   "mimetype": "text/x-python",
   "name": "python",
   "nbconvert_exporter": "python",
   "pygments_lexer": "ipython3",
   "version": "3.9.21"
  }
 },
 "nbformat": 5,
 "nbformat_minor": 9
}
